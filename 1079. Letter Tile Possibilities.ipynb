{
 "cells": [
  {
   "cell_type": "markdown",
   "metadata": {},
   "source": [
    "## 1079. Letter Tile Possibilities\n",
    "\n",
    "You have n  tiles, where each tile has one letter tiles[i] printed on it.\n",
    "\n",
    "Return the number of possible non-empty sequences of letters you can make using the letters printed on those tiles.\n",
    "\n",
    " \n",
    "\n",
    "Example 1:\n",
    "```\n",
    "Input: tiles = \"AAB\"\n",
    "Output: 8\n",
    "Explanation: The possible sequences are \"A\", \"B\", \"AA\", \"AB\", \"BA\", \"AAB\", \"ABA\", \"BAA\".\n",
    "```\n",
    "Example 2:\n",
    "```\n",
    "Input: tiles = \"AAABBC\"\n",
    "Output: 188\n",
    "```\n",
    "Example 3:\n",
    "```\n",
    "Input: tiles = \"V\"\n",
    "Output: 1\n",
    "``` \n",
    "\n",
    "Constraints:\n",
    "\n",
    "1 <= tiles.length <= 7\n",
    "tiles consists of uppercase English letters."
   ]
  },
  {
   "cell_type": "code",
   "execution_count": null,
   "metadata": {},
   "outputs": [],
   "source": [
    "class Solution:\n",
    "    def numTilePossibilities(self, tiles: str) -> int:\n",
    "        freq = collections.Counter(tiles)\n",
    "        prod = 1\n",
    "        for f in freq.values():\n",
    "            prod *= f + 1\n",
    "        res = 0\n",
    "        for i in range(1, prod):\n",
    "            digits = []\n",
    "            for f in freq.values():\n",
    "                digits.append(i % (f + 1))\n",
    "                i = i // (f + 1)\n",
    "            tmp = math.factorial(sum(digits))\n",
    "            for d in digits:\n",
    "                tmp //= math.factorial(d)\n",
    "            res += tmp\n",
    "        return res"
   ]
  }
 ],
 "metadata": {
  "kernelspec": {
   "display_name": "Python 3",
   "language": "python",
   "name": "python3"
  },
  "language_info": {
   "codemirror_mode": {
    "name": "ipython",
    "version": 3
   },
   "file_extension": ".py",
   "mimetype": "text/x-python",
   "name": "python",
   "nbconvert_exporter": "python",
   "pygments_lexer": "ipython3",
   "version": "3.8.3"
  }
 },
 "nbformat": 4,
 "nbformat_minor": 4
}
